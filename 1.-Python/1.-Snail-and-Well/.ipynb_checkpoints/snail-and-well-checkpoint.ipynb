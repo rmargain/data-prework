{
 "cells": [
  {
   "cell_type": "markdown",
   "metadata": {},
   "source": [
    "<img src=\"https://bit.ly/2VnXWr2\" width=\"100\" align=\"left\">"
   ]
  },
  {
   "cell_type": "markdown",
   "metadata": {},
   "source": [
    "# The Snail and the Well\n",
    "\n",
    "A snail falls at the bottom of a 125 cm well. Each day the snail rises 30 cm. But at night, while sleeping, slides 20 cm because the walls are wet. How many days does it take for the snail to escape the well?\n",
    "\n",
    "**Hint**: The snail gets out of the well when it surpasses the 125cm of height.\n",
    "\n",
    "## Tools\n",
    "\n",
    "1. Loop: **while**\n",
    "2. Conditional statements: **if-else**\n",
    "3. Function: **print()**\n",
    "\n",
    "## Tasks\n",
    "\n",
    "#### 1. Assign the challenge data to variables with representative names: `well_height`, `daily_distance`, `nightly_distance` and `snail_position`."
   ]
  },
  {
   "cell_type": "code",
   "execution_count": 1,
   "metadata": {},
   "outputs": [],
   "source": [
    "well_height = 125.0\n",
    "daily_distance = 30.0\n",
    "nightly_distance = -20\n",
    "snail_position = 0.0\n",
    "max_snail_position = 0.0"
   ]
  },
  {
   "cell_type": "markdown",
   "metadata": {},
   "source": [
    "## 2. Create a variable `days` to keep count of the days that pass until the snail escapes the well. "
   ]
  },
  {
   "cell_type": "code",
   "execution_count": 2,
   "metadata": {},
   "outputs": [],
   "source": [
    "days = 0.0"
   ]
  },
  {
   "cell_type": "markdown",
   "metadata": {},
   "source": [
    "#### 3. Find the solution to the challenge using the variables defined above. "
   ]
  },
  {
   "cell_type": "code",
   "execution_count": 3,
   "metadata": {},
   "outputs": [],
   "source": [
    "while well_height > snail_position:\n",
    "    max_snail_position = snail_position + daily_distance\n",
    "    if ( max_snail_position > well_height):\n",
    "        days += ((well_height - snail_position) / daily_distance)\n",
    "        snail_position = well_height\n",
    "    elif (max_snail_position == well_height):\n",
    "        days += 1\n",
    "        snail_position = well_height\n",
    "    else:\n",
    "        days += 1.0\n",
    "        snail_position = (daily_distance + nightly_distance) * days"
   ]
  },
  {
   "cell_type": "markdown",
   "metadata": {},
   "source": [
    "#### 4. Print the solution."
   ]
  },
  {
   "cell_type": "code",
   "execution_count": 4,
   "metadata": {},
   "outputs": [
    {
     "name": "stdout",
     "output_type": "stream",
     "text": [
      "10.833333333333334\n"
     ]
    }
   ],
   "source": [
    "print(days)"
   ]
  },
  {
   "cell_type": "markdown",
   "metadata": {},
   "source": [
    "## Bonus\n",
    "The distance traveled by the snail each day is now defined by a list.\n",
    "```\n",
    "advance_cm = [30, 21, 33, 77, 44, 45, 23, 45, 12, 34, 55]\n",
    "```\n",
    "On the first day, the snail rises 30cm but during the night it slides 20cm. On the second day, the snail rises 21cm but during the night it slides 20cm, and so on. \n",
    "\n",
    "#### 1. How many days does it take for the snail to escape the well?\n",
    "Follow the same guidelines as in the previous challenge.\n",
    "\n",
    "**Hint**: Remember that the snail gets out of the well when it surpasses the 125cm of height."
   ]
  },
  {
   "cell_type": "code",
   "execution_count": 7,
   "metadata": {},
   "outputs": [
    {
     "name": "stdout",
     "output_type": "stream",
     "text": [
      "5.0\n"
     ]
    }
   ],
   "source": [
    "advance_cm = [30, 21, 33, 77, 44, 45, 23, 45, 12, 34, 55]\n",
    "snail_position_2 = 0.0\n",
    "days_2 = 0.0\n",
    "i = 0\n",
    "while snail_position_2 < well_height:\n",
    "    max_snail_position_2 = snail_position_2 + advance_cm[i]\n",
    "    if ( max_snail_position_2 > well_height):\n",
    "        days_2 += ((well_height - snail_position_2) / advance_cm[i])\n",
    "        snail_position_2 = well_height\n",
    "    elif (max_snail_position_2 == well_height):\n",
    "        days_2 += 1\n",
    "        snail_position_2 = well_height\n",
    "    else:\n",
    "        days_2 += 1.0\n",
    "        snail_position_2 += (advance_cm[i] + nightly_distance)\n",
    "        i += 1\n",
    "print(days_2)"
   ]
  },
  {
   "cell_type": "markdown",
   "metadata": {},
   "source": [
    "#### 2. What is its maximum displacement in one day? And its minimum? Calculate the displacement using only the travel distance of the days used to get out of the well. \n",
    "**Hint**: Remember that displacement means the total distance risen taking into account that the snail slides at night.  "
   ]
  },
  {
   "cell_type": "code",
   "execution_count": 22,
   "metadata": {},
   "outputs": [
    {
     "name": "stdout",
     "output_type": "stream",
     "text": [
      "0.0\n",
      "57\n",
      "[10, 1, 13, 57, 24]\n"
     ]
    }
   ],
   "source": [
    "fraction_last_day = days_2 % 1\n",
    "max_displacement = 0\n",
    "snail_position_3 = 0\n",
    "dist = []\n",
    "for i in range(0, int(days_2)):\n",
    "    displacement = advance_cm[i] + nightly_distance\n",
    "    dist.append(displacement)\n",
    "    if (displacement > max_displacement):\n",
    "        max_displacement = displacement\n",
    "if( fraction_last_day > 0):\n",
    "    displacement = advance_cm[int(days_2)+1] * fraction_last_day\n",
    "    dist.append(displacement)\n",
    "    if(displacement > max_displacement):\n",
    "        max_displacement = displacement\n",
    "print(max_displacement)\n",
    "print(dist)\n",
    "    \n",
    "    "
   ]
  },
  {
   "cell_type": "markdown",
   "metadata": {},
   "source": [
    "#### 3. What is its average progress? Take into account the snail slides at night."
   ]
  },
  {
   "cell_type": "code",
   "execution_count": 30,
   "metadata": {},
   "outputs": [
    {
     "name": "stdout",
     "output_type": "stream",
     "text": [
      "21.0\n"
     ]
    }
   ],
   "source": [
    "mean = sum(dist)/len(dist)\n",
    "print(mean)"
   ]
  },
  {
   "cell_type": "markdown",
   "metadata": {},
   "source": [
    "#### 4. What is the standard deviation of its displacement? Take into account the snail slides at night."
   ]
  },
  {
   "cell_type": "code",
   "execution_count": 32,
   "metadata": {},
   "outputs": [
    {
     "name": "stdout",
     "output_type": "stream",
     "text": [
      "19.44222209522358\n"
     ]
    }
   ],
   "source": [
    "sum_of_squares = 0\n",
    "for i in range(0, len(dist)):\n",
    "    sum_of_squares += (dist[i] - mean)**2\n",
    "standard_deviation = (sum_of_squares / len(dist))**0.5\n",
    "print(standard_deviation)"
   ]
  }
 ],
 "metadata": {
  "kernelspec": {
   "display_name": "Python 3",
   "language": "python",
   "name": "python3"
  },
  "language_info": {
   "codemirror_mode": {
    "name": "ipython",
    "version": 3
   },
   "file_extension": ".py",
   "mimetype": "text/x-python",
   "name": "python",
   "nbconvert_exporter": "python",
   "pygments_lexer": "ipython3",
   "version": "3.9.6"
  }
 },
 "nbformat": 4,
 "nbformat_minor": 2
}
